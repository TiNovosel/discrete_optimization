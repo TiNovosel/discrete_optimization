{
 "cells": [
  {
   "cell_type": "code",
   "execution_count": 4,
   "id": "initial_id",
   "metadata": {
    "collapsed": true,
    "ExecuteTime": {
     "end_time": "2023-12-19T09:01:51.255351170Z",
     "start_time": "2023-12-19T09:01:51.252735999Z"
    }
   },
   "outputs": [],
   "source": [
    "from collections import namedtuple, deque\n",
    "from math import ceil\n",
    "import time\n",
    "\n",
    "import numpy as np"
   ]
  },
  {
   "cell_type": "code",
   "execution_count": 5,
   "outputs": [],
   "source": [
    "Item = namedtuple(\"Item\", [\"Item\", \"value\", \"weight\"])\n",
    "\n",
    "# relax_Item = namedtuple()"
   ],
   "metadata": {
    "collapsed": false,
    "ExecuteTime": {
     "end_time": "2023-12-19T09:01:52.620691433Z",
     "start_time": "2023-12-19T09:01:52.618665334Z"
    }
   },
   "id": "1db968ab72104848"
  },
  {
   "cell_type": "code",
   "execution_count": 6,
   "outputs": [],
   "source": [
    "with open('data/ks_4_0', 'r') as input_data_file:\n",
    "    input_data = input_data_file.read()"
   ],
   "metadata": {
    "collapsed": false,
    "ExecuteTime": {
     "end_time": "2023-12-19T11:29:02.518876829Z",
     "start_time": "2023-12-19T11:29:02.470561406Z"
    }
   },
   "id": "bc1e760015e353a2"
  },
  {
   "cell_type": "code",
   "execution_count": 20,
   "outputs": [
    {
     "name": "stdout",
     "output_type": "stream",
     "text": [
      "4 11\n",
      "8 4\n",
      "10 5\n",
      "15 8\n",
      "4 3\n",
      "\n",
      "split po novom redu\n",
      "['4 11', '8 4', '10 5', '15 8', '4 3', '']\n"
     ]
    }
   ],
   "source": [
    "print(input_data)\n",
    "print('split po novom redu')\n",
    "lines = input_data.split('\\n')\n",
    "print(lines)\n",
    "#to geather item_count and capacity\n",
    "firstLine = lines[0].split()\n",
    "item_count = int(firstLine[0])\n",
    "capacity = int(firstLine[1])"
   ],
   "metadata": {
    "collapsed": false,
    "ExecuteTime": {
     "end_time": "2023-12-19T11:37:17.176692539Z",
     "start_time": "2023-12-19T11:37:17.174065456Z"
    }
   },
   "id": "c3ea5ef43774cfed"
  },
  {
   "cell_type": "code",
   "execution_count": 23,
   "outputs": [],
   "source": [
    "items = []\n",
    "\n",
    "for i in range(1, item_count+1):\n",
    "    line = lines[i]\n",
    "    parts = line.split()\n",
    "    items.append(Item(i-1,int(parts[0]), int(parts[1])))"
   ],
   "metadata": {
    "collapsed": false,
    "ExecuteTime": {
     "end_time": "2023-12-19T12:01:42.438681719Z",
     "start_time": "2023-12-19T12:01:42.391716187Z"
    }
   },
   "id": "abb334a0fc5b409c"
  },
  {
   "cell_type": "code",
   "execution_count": 27,
   "outputs": [
    {
     "name": "stdout",
     "output_type": "stream",
     "text": [
      "Items in tuple:\n"
     ]
    },
    {
     "data": {
      "text/plain": "[Item(Item=0, value=8, weight=4),\n Item(Item=1, value=10, weight=5),\n Item(Item=2, value=15, weight=8),\n Item(Item=3, value=4, weight=3)]"
     },
     "execution_count": 27,
     "metadata": {},
     "output_type": "execute_result"
    }
   ],
   "source": [
    "print(\"Items in tuple:\")\n",
    "items"
   ],
   "metadata": {
    "collapsed": false,
    "ExecuteTime": {
     "end_time": "2023-12-19T12:03:15.267021324Z",
     "start_time": "2023-12-19T12:03:15.226070315Z"
    }
   },
   "id": "b6b8b301ef7426a9"
  },
  {
   "cell_type": "code",
   "execution_count": 28,
   "outputs": [
    {
     "name": "stdout",
     "output_type": "stream",
     "text": [
      "capacity: 11\n"
     ]
    }
   ],
   "source": [
    "print(\"capacity:\", capacity)"
   ],
   "metadata": {
    "collapsed": false,
    "ExecuteTime": {
     "end_time": "2023-12-19T12:03:37.540416468Z",
     "start_time": "2023-12-19T12:03:37.532196026Z"
    }
   },
   "id": "2da838ba018aef44"
  },
  {
   "cell_type": "code",
   "execution_count": 29,
   "outputs": [
    {
     "name": "stdout",
     "output_type": "stream",
     "text": [
      "item_count: 4\n"
     ]
    }
   ],
   "source": [
    "print(\"item_count:\", item_count)"
   ],
   "metadata": {
    "collapsed": false,
    "ExecuteTime": {
     "end_time": "2023-12-19T12:04:01.714898355Z",
     "start_time": "2023-12-19T12:04:01.672581351Z"
    }
   },
   "id": "3a202be5b2ae2324"
  },
  {
   "cell_type": "code",
   "execution_count": null,
   "outputs": [],
   "source": [],
   "metadata": {
    "collapsed": false
   },
   "id": "e5cf6e3edf4a4041"
  }
 ],
 "metadata": {
  "kernelspec": {
   "display_name": "Python 3",
   "language": "python",
   "name": "python3"
  },
  "language_info": {
   "codemirror_mode": {
    "name": "ipython",
    "version": 2
   },
   "file_extension": ".py",
   "mimetype": "text/x-python",
   "name": "python",
   "nbconvert_exporter": "python",
   "pygments_lexer": "ipython2",
   "version": "2.7.6"
  }
 },
 "nbformat": 4,
 "nbformat_minor": 5
}
