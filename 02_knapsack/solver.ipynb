{
 "cells": [
  {
   "cell_type": "code",
   "execution_count": 26,
   "id": "initial_id",
   "metadata": {
    "collapsed": true,
    "ExecuteTime": {
     "end_time": "2023-12-21T13:46:26.635814971Z",
     "start_time": "2023-12-21T13:46:26.590585407Z"
    }
   },
   "outputs": [],
   "source": [
    "from collections import namedtuple, deque\n",
    "from math import ceil\n",
    "import time\n",
    "\n",
    "import numpy as np"
   ]
  },
  {
   "cell_type": "code",
   "execution_count": 27,
   "outputs": [],
   "source": [
    "Item = namedtuple(\"Item\", [\"index\", \"value\", \"weight\"])\n",
    "\n",
    "# relax_Item = namedtuple()"
   ],
   "metadata": {
    "collapsed": false,
    "ExecuteTime": {
     "end_time": "2023-12-21T13:46:26.654140677Z",
     "start_time": "2023-12-21T13:46:26.636244273Z"
    }
   },
   "id": "1db968ab72104848"
  },
  {
   "cell_type": "code",
   "execution_count": 28,
   "outputs": [],
   "source": [
    "with open('data/ks_4_0', 'r') as input_data_file:\n",
    "    input_data = input_data_file.read()"
   ],
   "metadata": {
    "collapsed": false,
    "ExecuteTime": {
     "end_time": "2023-12-21T13:46:26.674327627Z",
     "start_time": "2023-12-21T13:46:26.640342714Z"
    }
   },
   "id": "bc1e760015e353a2"
  },
  {
   "cell_type": "code",
   "execution_count": 29,
   "outputs": [
    {
     "name": "stdout",
     "output_type": "stream",
     "text": [
      "4 11\n",
      "8 4\n",
      "10 5\n",
      "15 8\n",
      "4 3\n",
      "\n",
      "split po novom redu\n",
      "['4 11', '8 4', '10 5', '15 8', '4 3', '']\n"
     ]
    }
   ],
   "source": [
    "print(input_data)\n",
    "print('split po novom redu')\n",
    "lines = input_data.split('\\n')\n",
    "print(lines)\n",
    "#to geather item_count and capacity\n",
    "firstLine = lines[0].split()\n",
    "item_count = int(firstLine[0])\n",
    "capacity = int(firstLine[1])"
   ],
   "metadata": {
    "collapsed": false,
    "ExecuteTime": {
     "end_time": "2023-12-21T13:46:26.675149390Z",
     "start_time": "2023-12-21T13:46:26.656328209Z"
    }
   },
   "id": "c3ea5ef43774cfed"
  },
  {
   "cell_type": "code",
   "execution_count": 30,
   "outputs": [],
   "source": [
    "items = []\n",
    "\n",
    "for i in range(1, item_count+1):\n",
    "    line = lines[i]\n",
    "    parts = line.split()\n",
    "    items.append(Item(i-1,int(parts[0]), int(parts[1])))"
   ],
   "metadata": {
    "collapsed": false,
    "ExecuteTime": {
     "end_time": "2023-12-21T13:46:26.677647574Z",
     "start_time": "2023-12-21T13:46:26.674674010Z"
    }
   },
   "id": "abb334a0fc5b409c"
  },
  {
   "cell_type": "code",
   "execution_count": 31,
   "outputs": [
    {
     "name": "stdout",
     "output_type": "stream",
     "text": [
      "Items in tuple:\n"
     ]
    },
    {
     "data": {
      "text/plain": "[Item(index=0, value=8, weight=4),\n Item(index=1, value=10, weight=5),\n Item(index=2, value=15, weight=8),\n Item(index=3, value=4, weight=3)]"
     },
     "execution_count": 31,
     "metadata": {},
     "output_type": "execute_result"
    }
   ],
   "source": [
    "print(\"Items in tuple:\")\n",
    "items"
   ],
   "metadata": {
    "collapsed": false,
    "ExecuteTime": {
     "end_time": "2023-12-21T13:46:26.695618078Z",
     "start_time": "2023-12-21T13:46:26.678429176Z"
    }
   },
   "id": "b6b8b301ef7426a9"
  },
  {
   "cell_type": "code",
   "execution_count": 32,
   "outputs": [
    {
     "name": "stdout",
     "output_type": "stream",
     "text": [
      "capacity: 11\n"
     ]
    }
   ],
   "source": [
    "print(\"capacity:\", capacity)"
   ],
   "metadata": {
    "collapsed": false,
    "ExecuteTime": {
     "end_time": "2023-12-21T13:46:26.696496317Z",
     "start_time": "2023-12-21T13:46:26.692586731Z"
    }
   },
   "id": "2da838ba018aef44"
  },
  {
   "cell_type": "code",
   "execution_count": 33,
   "outputs": [
    {
     "name": "stdout",
     "output_type": "stream",
     "text": [
      "item_count: 4\n"
     ]
    }
   ],
   "source": [
    "print(\"item_count:\", item_count)"
   ],
   "metadata": {
    "collapsed": false,
    "ExecuteTime": {
     "end_time": "2023-12-21T13:46:26.821901385Z",
     "start_time": "2023-12-21T13:46:26.696105822Z"
    }
   },
   "id": "3a202be5b2ae2324"
  },
  {
   "cell_type": "code",
   "execution_count": 34,
   "outputs": [
    {
     "data": {
      "text/plain": "4"
     },
     "execution_count": 34,
     "metadata": {},
     "output_type": "execute_result"
    }
   ],
   "source": [
    "len(items)"
   ],
   "metadata": {
    "collapsed": false,
    "ExecuteTime": {
     "end_time": "2023-12-21T13:46:26.822768003Z",
     "start_time": "2023-12-21T13:46:26.727724277Z"
    }
   },
   "id": "e5cf6e3edf4a4041"
  },
  {
   "cell_type": "code",
   "execution_count": 35,
   "outputs": [],
   "source": [
    "matrix = np.zeros([len(items)+1,capacity+1])"
   ],
   "metadata": {
    "collapsed": false,
    "ExecuteTime": {
     "end_time": "2023-12-21T13:46:26.852565573Z",
     "start_time": "2023-12-21T13:46:26.778777384Z"
    }
   },
   "id": "c9eaddf3cb2403b"
  },
  {
   "cell_type": "code",
   "execution_count": 36,
   "outputs": [
    {
     "data": {
      "text/plain": "array([[0., 0., 0., 0., 0., 0., 0., 0., 0., 0., 0., 0.],\n       [0., 0., 0., 0., 0., 0., 0., 0., 0., 0., 0., 0.],\n       [0., 0., 0., 0., 0., 0., 0., 0., 0., 0., 0., 0.],\n       [0., 0., 0., 0., 0., 0., 0., 0., 0., 0., 0., 0.],\n       [0., 0., 0., 0., 0., 0., 0., 0., 0., 0., 0., 0.]])"
     },
     "execution_count": 36,
     "metadata": {},
     "output_type": "execute_result"
    }
   ],
   "source": [
    "matrix"
   ],
   "metadata": {
    "collapsed": false,
    "ExecuteTime": {
     "end_time": "2023-12-21T13:46:26.886711117Z",
     "start_time": "2023-12-21T13:46:26.828134305Z"
    }
   },
   "id": "740ef023ea78430b"
  },
  {
   "cell_type": "code",
   "execution_count": 37,
   "outputs": [],
   "source": [
    "def knapsack_dp(items, capacity):\n",
    "    matrix = np.zeros([len(items)+1,capacity+1])\n",
    "    \n",
    "    for i in range(1, len(items)+1):\n",
    "        for c in range(capacity+1):\n",
    "            if items[i-1].weight > c:\n",
    "                matrix[i][c] = matrix[i-1][c]\n",
    "            else:\n",
    "                matrix[i][c] = max(matrix[i-1][c], matrix[i-1][c-items[i-1].weight]+items[i-1].value)\n",
    "\n",
    "    return matrix\n"
   ],
   "metadata": {
    "collapsed": false,
    "ExecuteTime": {
     "end_time": "2023-12-21T13:46:26.912474005Z",
     "start_time": "2023-12-21T13:46:26.861308740Z"
    }
   },
   "id": "7a30dcb8ac836731"
  },
  {
   "cell_type": "code",
   "execution_count": 38,
   "outputs": [],
   "source": [
    "matrix = knapsack_dp(items, capacity)"
   ],
   "metadata": {
    "collapsed": false,
    "ExecuteTime": {
     "end_time": "2023-12-21T13:46:26.927004379Z",
     "start_time": "2023-12-21T13:46:26.913024886Z"
    }
   },
   "id": "68edec08f60258f4"
  },
  {
   "cell_type": "code",
   "execution_count": 39,
   "outputs": [
    {
     "data": {
      "text/plain": "array([[ 0.,  0.,  0.,  0.,  0.,  0.,  0.,  0.,  0.,  0.,  0.,  0.],\n       [ 0.,  0.,  0.,  0.,  8.,  8.,  8.,  8.,  8.,  8.,  8.,  8.],\n       [ 0.,  0.,  0.,  0.,  8., 10., 10., 10., 10., 18., 18., 18.],\n       [ 0.,  0.,  0.,  0.,  8., 10., 10., 10., 15., 18., 18., 18.],\n       [ 0.,  0.,  0.,  4.,  8., 10., 10., 12., 15., 18., 18., 19.]])"
     },
     "execution_count": 39,
     "metadata": {},
     "output_type": "execute_result"
    }
   ],
   "source": [
    "matrix"
   ],
   "metadata": {
    "collapsed": false,
    "ExecuteTime": {
     "end_time": "2023-12-21T13:46:26.938386252Z",
     "start_time": "2023-12-21T13:46:26.917899622Z"
    }
   },
   "id": "d3fe3b13cf46b80f"
  },
  {
   "cell_type": "code",
   "execution_count": 40,
   "outputs": [],
   "source": [
    "def reconstruct_knapsack(matrix, items):\n",
    "    remain_capacity = capacity\n",
    "    index_list = [0] * len(items)\n",
    "    for i in range(0, len(items))[::-1]:\n",
    "        if (items[i].weight <=  remain_capacity) and \\\n",
    "        (matrix[i][int(remain_capacity-items[i].weight)]+items[i].value >= matrix[i][int(remain_capacity)]):\n",
    "            index_list[items[i].index] = 1\n",
    "            remain_capacity -= items[i].weight\n",
    "        else:\n",
    "            pass\n",
    "\n",
    "    return index_list"
   ],
   "metadata": {
    "collapsed": false,
    "ExecuteTime": {
     "end_time": "2023-12-21T13:46:26.938873537Z",
     "start_time": "2023-12-21T13:46:26.929758697Z"
    }
   },
   "id": "7b4799211d4ed952"
  },
  {
   "cell_type": "code",
   "execution_count": 41,
   "outputs": [
    {
     "name": "stdout",
     "output_type": "stream",
     "text": [
      "This took 0.00012 seconds\n"
     ]
    }
   ],
   "source": [
    "start_time = time.time()\n",
    "matrix = knapsack_dp(items, capacity)\n",
    "index_list = reconstruct_knapsack(matrix, items)\n",
    "value = matrix[-1][-1]\n",
    "end_time = time.time()\n",
    "print(\"This took %.5f seconds\" % (end_time - start_time))"
   ],
   "metadata": {
    "collapsed": false,
    "ExecuteTime": {
     "end_time": "2023-12-21T13:46:26.948285819Z",
     "start_time": "2023-12-21T13:46:26.938438249Z"
    }
   },
   "id": "c09d00207916a1db"
  },
  {
   "cell_type": "code",
   "execution_count": 42,
   "outputs": [],
   "source": [
    "output_data = str(value) + ' ' + str(0) + '\\n'\n",
    "output_data += ' '.join(map(str, index_list))"
   ],
   "metadata": {
    "collapsed": false,
    "ExecuteTime": {
     "end_time": "2023-12-21T13:46:26.974719171Z",
     "start_time": "2023-12-21T13:46:26.942152886Z"
    }
   },
   "id": "41ad3d1b2e9937bd"
  },
  {
   "cell_type": "code",
   "execution_count": 43,
   "outputs": [
    {
     "data": {
      "text/plain": "'19.0 0\\n0 0 1 1'"
     },
     "execution_count": 43,
     "metadata": {},
     "output_type": "execute_result"
    }
   ],
   "source": [
    "output_data"
   ],
   "metadata": {
    "collapsed": false,
    "ExecuteTime": {
     "end_time": "2023-12-21T13:46:26.975759414Z",
     "start_time": "2023-12-21T13:46:26.951082877Z"
    }
   },
   "id": "ea951d0f0ca01698"
  },
  {
   "cell_type": "code",
   "execution_count": 1,
   "outputs": [],
   "source": [],
   "metadata": {
    "collapsed": false,
    "ExecuteTime": {
     "end_time": "2023-12-24T16:05:00.368665088Z",
     "start_time": "2023-12-24T16:05:00.355131949Z"
    }
   },
   "id": "5cd80f204845f58"
  },
  {
   "cell_type": "markdown",
   "source": [],
   "metadata": {
    "collapsed": false
   },
   "id": "2a705cd6d7bc51ee"
  }
 ],
 "metadata": {
  "kernelspec": {
   "display_name": "Python 3",
   "language": "python",
   "name": "python3"
  },
  "language_info": {
   "codemirror_mode": {
    "name": "ipython",
    "version": 2
   },
   "file_extension": ".py",
   "mimetype": "text/x-python",
   "name": "python",
   "nbconvert_exporter": "python",
   "pygments_lexer": "ipython2",
   "version": "2.7.6"
  }
 },
 "nbformat": 4,
 "nbformat_minor": 5
}
